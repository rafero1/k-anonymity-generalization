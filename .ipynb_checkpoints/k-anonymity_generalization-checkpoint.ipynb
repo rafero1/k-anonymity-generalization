{
 "cells": [
  {
   "cell_type": "markdown",
   "id": "9f22eb0b",
   "metadata": {},
   "source": [
    "# K-Anonimato com Generalização"
   ]
  },
  {
   "cell_type": "markdown",
   "id": "3effdcfb",
   "metadata": {},
   "source": [
    "## Importações e definições de variáveis/funções globais"
   ]
  },
  {
   "cell_type": "code",
   "execution_count": 1,
   "id": "220ed60d",
   "metadata": {},
   "outputs": [],
   "source": [
    "import numpy as np\n",
    "import pandas as pd\n",
    "import itertools as it\n",
    "from IPython.display import clear_output\n",
    "\n",
    "filename        = \"Dataset_Covid_CE.csv\"\n",
    "k_values        = [2, 4, 8, 16]\n",
    "\n",
    "def get_filename_out(k):\n",
    "    return f\"Dataset_Covid_CE_Anon_Sup_k{k}.csv\"\n",
    "\n",
    "def generate_csv(df, k):\n",
    "    return df.to_csv(get_filename_out(k))\n",
    "\n",
    "\n",
    "def is_k_anon(df, semi_ids, k=2):\n",
    "    \"\"\"\n",
    "    para a tabela ser considerada k-anonima, todo elemento da tabela deve possuir pelo menos k outros elementos com a mesma combinaçao de semi-identificadores. ou seja, para k = 2 e semi_ids = {Atr1, Atr2}, todo registro da tabela deve aparecer pelo menos 2 vezes com mesmo valor nos atributos \"Atr1\" e \"Atr2\".\n",
    "\n",
    "    essa função agrupa os elementos da tabela pelos atributos semi-identificadores em semi_ids e retorna False se algum grupo ocorre menos que k vezes, True se todo grupo ocorre ao menos k vezes.\n",
    "    \"\"\"\n",
    "\n",
    "    groups = df.groupby(by=semi_ids).size()\n",
    "    for n_of_groups in groups:\n",
    "        if n_of_groups < k: \n",
    "            return False\n",
    "    return True\n"
   ]
  },
  {
   "cell_type": "markdown",
   "id": "8af627a8",
   "metadata": {},
   "source": [
    "## Leitura e limpeza do dataset inicial\n",
    "Fazemos apenas uma limpeza básica para não modificar muito os resultados do algoritmo."
   ]
  },
  {
   "cell_type": "code",
   "execution_count": 2,
   "id": "ff474018",
   "metadata": {},
   "outputs": [
    {
     "data": {
      "text/html": [
       "<div>\n",
       "<style scoped>\n",
       "    .dataframe tbody tr th:only-of-type {\n",
       "        vertical-align: middle;\n",
       "    }\n",
       "\n",
       "    .dataframe tbody tr th {\n",
       "        vertical-align: top;\n",
       "    }\n",
       "\n",
       "    .dataframe thead th {\n",
       "        text-align: right;\n",
       "    }\n",
       "</style>\n",
       "<table border=\"1\" class=\"dataframe\">\n",
       "  <thead>\n",
       "    <tr style=\"text-align: right;\">\n",
       "      <th></th>\n",
       "      <th>municipioCaso</th>\n",
       "      <th>sexoCaso</th>\n",
       "      <th>dataNascimento</th>\n",
       "      <th>resultadoFinalExame</th>\n",
       "      <th>comorbidadeCardiovascularSivep</th>\n",
       "      <th>comorbidadeDiabetesSivep</th>\n",
       "      <th>racaCor</th>\n",
       "    </tr>\n",
       "  </thead>\n",
       "  <tbody>\n",
       "    <tr>\n",
       "      <th>19</th>\n",
       "      <td>SOBRAL</td>\n",
       "      <td>MASCULINO</td>\n",
       "      <td>2003-08-14</td>\n",
       "      <td>Negativo</td>\n",
       "      <td>*</td>\n",
       "      <td>*</td>\n",
       "      <td>Parda</td>\n",
       "    </tr>\n",
       "    <tr>\n",
       "      <th>20</th>\n",
       "      <td>PACAJUS</td>\n",
       "      <td>MASCULINO</td>\n",
       "      <td>1983-11-07</td>\n",
       "      <td>Negativo</td>\n",
       "      <td>*</td>\n",
       "      <td>*</td>\n",
       "      <td>Parda</td>\n",
       "    </tr>\n",
       "    <tr>\n",
       "      <th>21</th>\n",
       "      <td>HORIZONTE</td>\n",
       "      <td>FEMININO</td>\n",
       "      <td>1982-01-14</td>\n",
       "      <td>Negativo</td>\n",
       "      <td>*</td>\n",
       "      <td>*</td>\n",
       "      <td>*</td>\n",
       "    </tr>\n",
       "    <tr>\n",
       "      <th>25</th>\n",
       "      <td>FORTALEZA</td>\n",
       "      <td>MASCULINO</td>\n",
       "      <td>1992-03-12</td>\n",
       "      <td>Negativo</td>\n",
       "      <td>*</td>\n",
       "      <td>*</td>\n",
       "      <td>Parda</td>\n",
       "    </tr>\n",
       "    <tr>\n",
       "      <th>28</th>\n",
       "      <td>CAUCAIA</td>\n",
       "      <td>MASCULINO</td>\n",
       "      <td>1970-03-06</td>\n",
       "      <td>Negativo</td>\n",
       "      <td>*</td>\n",
       "      <td>*</td>\n",
       "      <td>Sem Informacao</td>\n",
       "    </tr>\n",
       "    <tr>\n",
       "      <th>...</th>\n",
       "      <td>...</td>\n",
       "      <td>...</td>\n",
       "      <td>...</td>\n",
       "      <td>...</td>\n",
       "      <td>...</td>\n",
       "      <td>...</td>\n",
       "      <td>...</td>\n",
       "    </tr>\n",
       "    <tr>\n",
       "      <th>1266272</th>\n",
       "      <td>FORTALEZA</td>\n",
       "      <td>FEMININO</td>\n",
       "      <td>1982-12-08</td>\n",
       "      <td>Positivo</td>\n",
       "      <td>*</td>\n",
       "      <td>*</td>\n",
       "      <td>Branca</td>\n",
       "    </tr>\n",
       "    <tr>\n",
       "      <th>1266273</th>\n",
       "      <td>FORTALEZA</td>\n",
       "      <td>FEMININO</td>\n",
       "      <td>1980-12-02</td>\n",
       "      <td>Negativo</td>\n",
       "      <td>*</td>\n",
       "      <td>*</td>\n",
       "      <td>Parda</td>\n",
       "    </tr>\n",
       "    <tr>\n",
       "      <th>1266274</th>\n",
       "      <td>FORTALEZA</td>\n",
       "      <td>FEMININO</td>\n",
       "      <td>1988-05-17</td>\n",
       "      <td>Provável</td>\n",
       "      <td>*</td>\n",
       "      <td>*</td>\n",
       "      <td>Branca</td>\n",
       "    </tr>\n",
       "    <tr>\n",
       "      <th>1266275</th>\n",
       "      <td>CRATEUS</td>\n",
       "      <td>FEMININO</td>\n",
       "      <td>1970-09-28</td>\n",
       "      <td>Negativo</td>\n",
       "      <td>*</td>\n",
       "      <td>*</td>\n",
       "      <td>Parda</td>\n",
       "    </tr>\n",
       "    <tr>\n",
       "      <th>1266276</th>\n",
       "      <td>JUAZEIRO DO NORTE</td>\n",
       "      <td>FEMININO</td>\n",
       "      <td>1998-12-14</td>\n",
       "      <td>Positivo</td>\n",
       "      <td>*</td>\n",
       "      <td>*</td>\n",
       "      <td>*</td>\n",
       "    </tr>\n",
       "  </tbody>\n",
       "</table>\n",
       "<p>911921 rows × 7 columns</p>\n",
       "</div>"
      ],
      "text/plain": [
       "             municipioCaso   sexoCaso dataNascimento resultadoFinalExame  \\\n",
       "19                  SOBRAL  MASCULINO     2003-08-14            Negativo   \n",
       "20                 PACAJUS  MASCULINO     1983-11-07            Negativo   \n",
       "21               HORIZONTE   FEMININO     1982-01-14            Negativo   \n",
       "25               FORTALEZA  MASCULINO     1992-03-12            Negativo   \n",
       "28                 CAUCAIA  MASCULINO     1970-03-06            Negativo   \n",
       "...                    ...        ...            ...                 ...   \n",
       "1266272          FORTALEZA   FEMININO     1982-12-08            Positivo   \n",
       "1266273          FORTALEZA   FEMININO     1980-12-02            Negativo   \n",
       "1266274          FORTALEZA   FEMININO     1988-05-17            Provável   \n",
       "1266275            CRATEUS   FEMININO     1970-09-28            Negativo   \n",
       "1266276  JUAZEIRO DO NORTE   FEMININO     1998-12-14            Positivo   \n",
       "\n",
       "        comorbidadeCardiovascularSivep comorbidadeDiabetesSivep  \\\n",
       "19                                   *                        *   \n",
       "20                                   *                        *   \n",
       "21                                   *                        *   \n",
       "25                                   *                        *   \n",
       "28                                   *                        *   \n",
       "...                                ...                      ...   \n",
       "1266272                              *                        *   \n",
       "1266273                              *                        *   \n",
       "1266274                              *                        *   \n",
       "1266275                              *                        *   \n",
       "1266276                              *                        *   \n",
       "\n",
       "                racaCor  \n",
       "19                Parda  \n",
       "20                Parda  \n",
       "21                    *  \n",
       "25                Parda  \n",
       "28       Sem Informacao  \n",
       "...                 ...  \n",
       "1266272          Branca  \n",
       "1266273           Parda  \n",
       "1266274          Branca  \n",
       "1266275           Parda  \n",
       "1266276               *  \n",
       "\n",
       "[911921 rows x 7 columns]"
      ]
     },
     "execution_count": 2,
     "metadata": {},
     "output_type": "execute_result"
    }
   ],
   "source": [
    "# definição dos semi-identificadores\n",
    "semi_id = [\n",
    "    \"municipioCaso\",\n",
    "    \"sexoCaso\",\n",
    "    \"dataNascimento\",\n",
    "    \"resultadoFinalExame\",\n",
    "    \"racaCor\",\n",
    "]\n",
    "\n",
    "# definição dos atributos sensíveis\n",
    "sensitive = [\n",
    "    \"comorbidadeCardiovascularSivep\",\n",
    "    \"comorbidadeDiabetesSivep\",\n",
    "]\n",
    "\n",
    "# definição dos tipos\n",
    "dtype = {\n",
    "    \"municipioCaso\"                  : \"str\",\n",
    "    \"sexoCaso\"                       : \"str\",\n",
    "    \"dataNascimento\"                 : \"str\",\n",
    "    \"resultadoFinalExame\"            : \"str\",\n",
    "    \"comorbidadeCardiovascularSivep\" : \"str\",\n",
    "    \"comorbidadeDiabetesSivep\"       : \"str\",\n",
    "    \"racaCor\"                        : \"str\",\n",
    "}\n",
    "\n",
    "# definição das colunas de data\n",
    "date_columns = [\n",
    "    \"dataNascimento\",\n",
    "]\n",
    "\n",
    "# pegar apenas os atributos desejados do dataset\n",
    "df = pd.read_csv(filename, usecols=semi_id + sensitive, dtype=dtype, parse_dates=date_columns, infer_datetime_format=True)\n",
    "# df = pd.read_csv(filename, usecols=semi_id + sensitive, dtype=dtype)\n",
    "df = df.dropna(how=\"all\") # remover registros com todos os valores nulo\n",
    "df = df.fillna(\"*\") # padroniza valores nulos\n",
    "df"
   ]
  },
  {
   "cell_type": "code",
   "execution_count": 3,
   "id": "81113126",
   "metadata": {},
   "outputs": [],
   "source": [
    "# generate_csv(df, k=1)"
   ]
  },
  {
   "cell_type": "code",
   "execution_count": 4,
   "id": "719e5352",
   "metadata": {},
   "outputs": [
    {
     "data": {
      "text/html": [
       "<div>\n",
       "<style scoped>\n",
       "    .dataframe tbody tr th:only-of-type {\n",
       "        vertical-align: middle;\n",
       "    }\n",
       "\n",
       "    .dataframe tbody tr th {\n",
       "        vertical-align: top;\n",
       "    }\n",
       "\n",
       "    .dataframe thead th {\n",
       "        text-align: right;\n",
       "    }\n",
       "</style>\n",
       "<table border=\"1\" class=\"dataframe\">\n",
       "  <thead>\n",
       "    <tr style=\"text-align: right;\">\n",
       "      <th></th>\n",
       "      <th>municipioCaso</th>\n",
       "      <th>sexoCaso</th>\n",
       "      <th>dataNascimento</th>\n",
       "      <th>resultadoFinalExame</th>\n",
       "      <th>comorbidadeCardiovascularSivep</th>\n",
       "      <th>comorbidadeDiabetesSivep</th>\n",
       "      <th>racaCor</th>\n",
       "    </tr>\n",
       "  </thead>\n",
       "  <tbody>\n",
       "    <tr>\n",
       "      <th>count</th>\n",
       "      <td>911921</td>\n",
       "      <td>911921</td>\n",
       "      <td>911921</td>\n",
       "      <td>911921</td>\n",
       "      <td>911921</td>\n",
       "      <td>911921</td>\n",
       "      <td>911921</td>\n",
       "    </tr>\n",
       "    <tr>\n",
       "      <th>unique</th>\n",
       "      <td>184</td>\n",
       "      <td>3</td>\n",
       "      <td>35436</td>\n",
       "      <td>6</td>\n",
       "      <td>4</td>\n",
       "      <td>4</td>\n",
       "      <td>8</td>\n",
       "    </tr>\n",
       "    <tr>\n",
       "      <th>top</th>\n",
       "      <td>FORTALEZA</td>\n",
       "      <td>FEMININO</td>\n",
       "      <td>*</td>\n",
       "      <td>Negativo</td>\n",
       "      <td>*</td>\n",
       "      <td>*</td>\n",
       "      <td>Parda</td>\n",
       "    </tr>\n",
       "    <tr>\n",
       "      <th>freq</th>\n",
       "      <td>238374</td>\n",
       "      <td>517751</td>\n",
       "      <td>206</td>\n",
       "      <td>543568</td>\n",
       "      <td>902505</td>\n",
       "      <td>903015</td>\n",
       "      <td>482975</td>\n",
       "    </tr>\n",
       "  </tbody>\n",
       "</table>\n",
       "</div>"
      ],
      "text/plain": [
       "       municipioCaso  sexoCaso dataNascimento resultadoFinalExame  \\\n",
       "count         911921    911921         911921              911921   \n",
       "unique           184         3          35436                   6   \n",
       "top        FORTALEZA  FEMININO              *            Negativo   \n",
       "freq          238374    517751            206              543568   \n",
       "\n",
       "       comorbidadeCardiovascularSivep comorbidadeDiabetesSivep racaCor  \n",
       "count                          911921                   911921  911921  \n",
       "unique                              4                        4       8  \n",
       "top                                 *                        *   Parda  \n",
       "freq                           902505                   903015  482975  "
      ]
     },
     "execution_count": 4,
     "metadata": {},
     "output_type": "execute_result"
    }
   ],
   "source": [
    "df.describe()"
   ]
  },
  {
   "cell_type": "code",
   "execution_count": 5,
   "id": "d084d7de",
   "metadata": {},
   "outputs": [
    {
     "data": {
      "text/plain": [
       "municipioCaso                       184\n",
       "sexoCaso                              3\n",
       "dataNascimento                    35436\n",
       "resultadoFinalExame                   6\n",
       "comorbidadeCardiovascularSivep        4\n",
       "comorbidadeDiabetesSivep              4\n",
       "racaCor                               8\n",
       "dtype: int64"
      ]
     },
     "execution_count": 5,
     "metadata": {},
     "output_type": "execute_result"
    }
   ],
   "source": [
    "df.nunique()"
   ]
  },
  {
   "cell_type": "code",
   "execution_count": 8,
   "id": "4cd1fc43",
   "metadata": {},
   "outputs": [
    {
     "data": {
      "text/plain": [
       "Negativo        543568\n",
       "Positivo        266325\n",
       "Provável         71038\n",
       "*                30655\n",
       "Inconclusivo       314\n",
       "Em Análise          21\n",
       "Name: resultadoFinalExame, dtype: int64"
      ]
     },
     "execution_count": 8,
     "metadata": {},
     "output_type": "execute_result"
    }
   ],
   "source": [
    "df.resultadoFinalExame.value_counts()"
   ]
  },
  {
   "cell_type": "code",
   "execution_count": 9,
   "id": "53e2ad64",
   "metadata": {},
   "outputs": [
    {
     "data": {
      "text/plain": [
       "FEMININO     517751\n",
       "MASCULINO    392647\n",
       "*              1523\n",
       "Name: sexoCaso, dtype: int64"
      ]
     },
     "execution_count": 9,
     "metadata": {},
     "output_type": "execute_result"
    }
   ],
   "source": [
    "df.sexoCaso.value_counts()"
   ]
  },
  {
   "cell_type": "code",
   "execution_count": 11,
   "id": "a458384b",
   "metadata": {},
   "outputs": [
    {
     "data": {
      "text/plain": [
       "FORTALEZA            238374\n",
       "JUAZEIRO DO NORTE     39522\n",
       "CRATO                 28433\n",
       "SOBRAL                27890\n",
       "MARACANAU             22987\n",
       "                      ...  \n",
       "PENAFORTE               319\n",
       "MULUNGU                 318\n",
       "TARRAFAS                278\n",
       "ANTONINA DO NORTE       249\n",
       "ARNEIROZ                152\n",
       "Name: municipioCaso, Length: 184, dtype: int64"
      ]
     },
     "execution_count": 11,
     "metadata": {},
     "output_type": "execute_result"
    }
   ],
   "source": [
    "df.municipioCaso.value_counts()"
   ]
  },
  {
   "cell_type": "markdown",
   "id": "33012de5",
   "metadata": {},
   "source": [
    "## Aplicação do algoritmo"
   ]
  },
  {
   "cell_type": "code",
   "execution_count": 12,
   "id": "5fce6b13",
   "metadata": {},
   "outputs": [
    {
     "ename": "SyntaxError",
     "evalue": "invalid syntax (<ipython-input-12-5a28b752e367>, line 2)",
     "output_type": "error",
     "traceback": [
      "\u001b[1;36m  File \u001b[1;32m\"<ipython-input-12-5a28b752e367>\"\u001b[1;36m, line \u001b[1;32m2\u001b[0m\n\u001b[1;33m    return slice = 'Cearense'\u001b[0m\n\u001b[1;37m                 ^\u001b[0m\n\u001b[1;31mSyntaxError\u001b[0m\u001b[1;31m:\u001b[0m invalid syntax\n"
     ]
    }
   ],
   "source": [
    "def generalize_municipio(slice):\n",
    "    slice = 'Cearense'\n",
    "    return slice\n",
    "\n",
    "def generalize_sexo(slice):\n",
    "    slice = 'Binário'\n",
    "    return slice\n",
    "\n",
    "def generalize_raca(slice):\n",
    "    slice = 'Humano'\n",
    "    return slice\n",
    "\n",
    "def generalize_resultado(slice):\n",
    "    slice = 'Pessoa'\n",
    "    return slice\n",
    "\n",
    "def generalize_datetime(slice, format):\n",
    "    return slice.apply(lambda row: pd.to_datetime(row, format=format, errors='coerce'))\n",
    "\n",
    "def k_anon_general(df, semi_ids, k):\n",
    "    \"\"\"\n",
    "    algoritmo de generalização\n",
    "    \"\"\"\n",
    "    \n",
    "    # forma grupos com combinações de valores dos semi-ids\n",
    "    semi_ids_combination_groups = df.groupby(semi_ids)\n",
    "\n",
    "    anon = []\n",
    "\n",
    "    # para cada grupo formado, se o grupo já respeita regra do k-anonimato, considera os seus registros como anonimados\n",
    "    n = 1\n",
    "    for name, group in semi_ids_combination_groups:\n",
    "        if group.shape[0] >= k:\n",
    "            anon.append(group)\n",
    "\n",
    "    anon = [pd.concat(anon).sort_index()]\n",
    "    not_anon = df.drop(anon[0].index)\n",
    "\n",
    "    # return  pd.concat(anon).sort_index()\n",
    "    return  semi_ids_combination_groups.count()\n",
    "\n",
    "    # for n in [4, 3, 2, 1]:\n",
    "    #     semi_ids_combinations = it.combinations(semi_ids, n)\n",
    "    #     trows = []\n",
    "\n",
    "    #     for s in semi_ids_combinations:\n",
    "    #         groups = not_anon.groupby(list(s))\n",
    "    #         rows = []\n",
    "\n",
    "    #         for name, group in groups:\n",
    "    #             if group.shape[0] >= k:\n",
    "    #                 rm = list(set(semi_ids) - set(s))\n",
    "    #                 for col in rm:\n",
    "    #                     group[col] = \"*\"\n",
    "    #                 rows.append(group)\n",
    "\n",
    "    #         if rows:\n",
    "    #             rows = pd.concat(rows).sort_index()\n",
    "    #             trows.append(rows)\n",
    "    #             not_anon = not_anon.drop(rows.index)\n",
    "\n",
    "    #     if trows:\n",
    "    #         trows = pd.concat(trows).sort_index()\n",
    "    #         anon.append(trows)\n",
    "\n",
    "    # not_anon.dataNascimento = \"*\"\n",
    "    # not_anon.racaCor = \"*\"\n",
    "    # anon.append(not_anon)\n",
    "\n",
    "    # return pd.concat(anon).sort_index()\n",
    "\n",
    "# 2. gerar tabela k = 2\n",
    "k = 2\n",
    "\n",
    "df2 = k_anon_general(df, semi_id, k)\n",
    "df2"
   ]
  },
  {
   "cell_type": "code",
   "execution_count": 7,
   "id": "959fc054",
   "metadata": {},
   "outputs": [
    {
     "data": {
      "text/plain": [
       "True"
      ]
     },
     "execution_count": 7,
     "metadata": {},
     "output_type": "execute_result"
    }
   ],
   "source": [
    "# generate_csv(df2, k)\n",
    "is_k_anon(df2, semi_id, k)"
   ]
  },
  {
   "cell_type": "markdown",
   "id": "6300b1f1",
   "metadata": {},
   "source": [
    "# Gráficos"
   ]
  }
 ],
 "metadata": {
  "interpreter": {
   "hash": "010b54f1825be09c18f412b79948692e03fb8efcbd4915706a1d6aa8fb5f9e13"
  },
  "kernelspec": {
   "display_name": "Python 3",
   "language": "python",
   "name": "python3"
  },
  "language_info": {
   "codemirror_mode": {
    "name": "ipython",
    "version": 3
   },
   "file_extension": ".py",
   "mimetype": "text/x-python",
   "name": "python",
   "nbconvert_exporter": "python",
   "pygments_lexer": "ipython3",
   "version": "3.8.8"
  }
 },
 "nbformat": 4,
 "nbformat_minor": 5
}
